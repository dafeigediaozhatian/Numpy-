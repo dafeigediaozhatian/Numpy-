{
 "cells": [
  {
   "cell_type": "markdown",
   "metadata": {},
   "source": [
    "# Numpy学习笔记\n",
    "- 数据结构\n",
    "- 关键：数据类型和尺寸\n",
    "- 数据索引和切片\n",
    "- 通用函数调用（一元、二元或多元）\n",
    "- 数据筛选（np.where)\n",
    "- 数据统计和排序，集合计算\n",
    "- 数组文件输入输出\n",
    "- 线性代数计算"
   ]
  },
  {
   "cell_type": "markdown",
   "metadata": {},
   "source": [
    "## 数据结构\n",
    "numpy是一种多维数组对象，关键点在于内部数据类型一致，便于大规模、统一运行计算！"
   ]
  },
  {
   "cell_type": "code",
   "execution_count": 9,
   "metadata": {},
   "outputs": [],
   "source": [
    "import numpy as np\n",
    "from random import *"
   ]
  },
  {
   "cell_type": "code",
   "execution_count": 45,
   "metadata": {
    "scrolled": true
   },
   "outputs": [
    {
     "data": {
      "text/plain": [
       "array([[-0.81309217,  0.41135035, -0.65550612, -0.74730307, -0.80436756,\n",
       "        -0.07117057,  1.05878718, -0.77568302, -0.06530494,  0.08762856],\n",
       "       [-0.25332392,  0.0870552 , -0.01378358,  0.59182185,  0.79189442,\n",
       "         0.58800379, -0.32533814, -0.94121369, -1.3479782 , -0.72438471]])"
      ]
     },
     "execution_count": 45,
     "metadata": {},
     "output_type": "execute_result"
    }
   ],
   "source": [
    "a = np.random.randn(2, 10)\n",
    "a"
   ]
  },
  {
   "cell_type": "markdown",
   "metadata": {},
   "source": [
    "## 关键：数据类型和尺寸\n",
    "类型：dtype, 转换类型astype  \n",
    "尺寸：shape, 改变尺寸reshape和resize  \n"
   ]
  },
  {
   "cell_type": "code",
   "execution_count": 47,
   "metadata": {},
   "outputs": [
    {
     "data": {
      "text/plain": [
       "dtype('float64')"
      ]
     },
     "execution_count": 47,
     "metadata": {},
     "output_type": "execute_result"
    }
   ],
   "source": [
    "a.dtype"
   ]
  },
  {
   "cell_type": "code",
   "execution_count": 48,
   "metadata": {},
   "outputs": [
    {
     "data": {
      "text/plain": [
       "(2, 10)"
      ]
     },
     "execution_count": 48,
     "metadata": {},
     "output_type": "execute_result"
    }
   ],
   "source": [
    "a.shape"
   ]
  },
  {
   "cell_type": "code",
   "execution_count": 50,
   "metadata": {},
   "outputs": [
    {
     "data": {
      "text/plain": [
       "array([[ 0,  0,  0,  0,  0,  0,  1,  0,  0,  0],\n",
       "       [ 0,  0,  0,  0,  0,  0,  0,  0, -1,  0]])"
      ]
     },
     "execution_count": 50,
     "metadata": {},
     "output_type": "execute_result"
    }
   ],
   "source": [
    "# 转换数据类型\n",
    "a.astype(np.int)"
   ]
  },
  {
   "cell_type": "markdown",
   "metadata": {},
   "source": [
    "## 数据索引和切片\n",
    "普通索引：a[1:5]  \n",
    "切片索引：a[:5, 2:]  \n",
    "花式索引：传入多个值，索引多个值或者多个维度的单个值  \n",
    "转置和轴对换"
   ]
  },
  {
   "cell_type": "code",
   "execution_count": 51,
   "metadata": {},
   "outputs": [
    {
     "data": {
      "text/plain": [
       "array([[-0.25332392,  0.0870552 , -0.01378358,  0.59182185,  0.79189442,\n",
       "         0.58800379, -0.32533814, -0.94121369, -1.3479782 , -0.72438471]])"
      ]
     },
     "execution_count": 51,
     "metadata": {},
     "output_type": "execute_result"
    }
   ],
   "source": [
    "# 普通索引\n",
    "a[1:5]"
   ]
  },
  {
   "cell_type": "code",
   "execution_count": 52,
   "metadata": {
    "scrolled": false
   },
   "outputs": [
    {
     "data": {
      "text/plain": [
       "array([[-0.65550612, -0.74730307, -0.80436756, -0.07117057,  1.05878718,\n",
       "        -0.77568302, -0.06530494,  0.08762856],\n",
       "       [-0.01378358,  0.59182185,  0.79189442,  0.58800379, -0.32533814,\n",
       "        -0.94121369, -1.3479782 , -0.72438471]])"
      ]
     },
     "execution_count": 52,
     "metadata": {},
     "output_type": "execute_result"
    }
   ],
   "source": [
    "# 切片索引\n",
    "a[:5, 2:]"
   ]
  },
  {
   "cell_type": "code",
   "execution_count": 66,
   "metadata": {
    "scrolled": true
   },
   "outputs": [
    {
     "data": {
      "text/plain": [
       "array([[-0.25332392,  0.0870552 , -0.01378358,  0.59182185,  0.79189442,\n",
       "         0.58800379, -0.32533814, -0.94121369, -1.3479782 , -0.72438471],\n",
       "       [-0.81309217,  0.41135035, -0.65550612, -0.74730307, -0.80436756,\n",
       "        -0.07117057,  1.05878718, -0.77568302, -0.06530494,  0.08762856]])"
      ]
     },
     "execution_count": 66,
     "metadata": {},
     "output_type": "execute_result"
    }
   ],
   "source": [
    "# 花式索引\n",
    "b = [[1, 0]]\n",
    "a[b]"
   ]
  },
  {
   "cell_type": "code",
   "execution_count": 68,
   "metadata": {},
   "outputs": [
    {
     "data": {
      "text/plain": [
       "array([[-0.81309217, -0.25332392],\n",
       "       [ 0.41135035,  0.0870552 ],\n",
       "       [-0.65550612, -0.01378358],\n",
       "       [-0.74730307,  0.59182185],\n",
       "       [-0.80436756,  0.79189442],\n",
       "       [-0.07117057,  0.58800379],\n",
       "       [ 1.05878718, -0.32533814],\n",
       "       [-0.77568302, -0.94121369],\n",
       "       [-0.06530494, -1.3479782 ],\n",
       "       [ 0.08762856, -0.72438471]])"
      ]
     },
     "execution_count": 68,
     "metadata": {},
     "output_type": "execute_result"
    }
   ],
   "source": [
    "# 转置和轴对换\n",
    "c = a.T\n",
    "c"
   ]
  },
  {
   "cell_type": "code",
   "execution_count": 77,
   "metadata": {},
   "outputs": [
    {
     "data": {
      "text/plain": [
       "array([[[ 0,  1,  2,  3,  4],\n",
       "        [ 5,  6,  7,  8,  9]],\n",
       "\n",
       "       [[10, 11, 12, 13, 14],\n",
       "        [15, 16, 17, 18, 19]]])"
      ]
     },
     "execution_count": 77,
     "metadata": {},
     "output_type": "execute_result"
    }
   ],
   "source": [
    "d = np.arange(20).reshape(2, 2, 5)\n",
    "d"
   ]
  },
  {
   "cell_type": "code",
   "execution_count": 80,
   "metadata": {},
   "outputs": [
    {
     "name": "stdout",
     "output_type": "stream",
     "text": [
      "[[[ 0  1  2  3  4]\n",
      "  [10 11 12 13 14]]\n",
      "\n",
      " [[ 5  6  7  8  9]\n",
      "  [15 16 17 18 19]]]\n"
     ]
    },
    {
     "data": {
      "text/plain": [
       "array([[[ 0,  1,  2,  3,  4],\n",
       "        [10, 11, 12, 13, 14]],\n",
       "\n",
       "       [[ 5,  6,  7,  8,  9],\n",
       "        [15, 16, 17, 18, 19]]])"
      ]
     },
     "execution_count": 80,
     "metadata": {},
     "output_type": "execute_result"
    }
   ],
   "source": [
    "# transpose和swapaxex等效\n",
    "print(d.swapaxes(0, 1))\n",
    "d.transpose((1, 0, 2))"
   ]
  },
  {
   "cell_type": "markdown",
   "metadata": {},
   "source": [
    "## 通用函数调用（一元、二元或多元）\n",
    "一元即对单个数值进行运算，如绝对值abs，开方sqrt，exp等  \n",
    "二元即对两个数值进行运算，如加减乘除等  \n",
    "多元或者统计方法：mean， sum， std， var， min， max等等"
   ]
  },
  {
   "cell_type": "code",
   "execution_count": 83,
   "metadata": {
    "scrolled": true
   },
   "outputs": [
    {
     "data": {
      "text/plain": [
       "array([[[0.        , 1.        , 1.41421356, 1.73205081, 2.        ],\n",
       "        [2.23606798, 2.44948974, 2.64575131, 2.82842712, 3.        ]],\n",
       "\n",
       "       [[3.16227766, 3.31662479, 3.46410162, 3.60555128, 3.74165739],\n",
       "        [3.87298335, 4.        , 4.12310563, 4.24264069, 4.35889894]]])"
      ]
     },
     "execution_count": 83,
     "metadata": {},
     "output_type": "execute_result"
    }
   ],
   "source": [
    "# 一元\n",
    "np.sqrt(d)"
   ]
  },
  {
   "cell_type": "code",
   "execution_count": 87,
   "metadata": {},
   "outputs": [
    {
     "data": {
      "text/plain": [
       "array([[-0.81309217,  1.41135035,  1.34449388,  2.25269693,  3.19563244,\n",
       "         4.92882943,  7.05878718,  6.22431698,  7.93469506,  9.08762856],\n",
       "       [ 9.74667608, 11.0870552 , 11.98621642, 13.59182185, 14.79189442,\n",
       "        15.58800379, 15.67466186, 16.05878631, 16.6520218 , 18.27561529]])"
      ]
     },
     "execution_count": 87,
     "metadata": {},
     "output_type": "execute_result"
    }
   ],
   "source": [
    "# 二元\n",
    "e = d.reshape(2, 10)\n",
    "np.add(a, e)"
   ]
  },
  {
   "cell_type": "code",
   "execution_count": 90,
   "metadata": {},
   "outputs": [
    {
     "name": "stdout",
     "output_type": "stream",
     "text": [
      "平均值 9.5\n",
      "最大值 19\n",
      "标准差 0.6389321853375332\n"
     ]
    }
   ],
   "source": [
    "# 多元\n",
    "print('平均值',e.mean())\n",
    "print('最大值', e.max())\n",
    "print('标准差', np.std(a))"
   ]
  },
  {
   "cell_type": "markdown",
   "metadata": {},
   "source": [
    "## 数据筛选（np.where)\n",
    "np.where(condition, x, y), 条件成立为x， 条件不成立为y  \n",
    "可多个np.where嵌套，形成if-else条件语句  "
   ]
  },
  {
   "cell_type": "code",
   "execution_count": 91,
   "metadata": {},
   "outputs": [
    {
     "data": {
      "text/plain": [
       "array([[ 0,  1,  2,  3,  4,  5,  6,  7,  8,  9],\n",
       "       [10, 11, 12, 13, 14, 15, 16, 17, 18, 19]])"
      ]
     },
     "execution_count": 91,
     "metadata": {},
     "output_type": "execute_result"
    }
   ],
   "source": [
    "e"
   ]
  },
  {
   "cell_type": "code",
   "execution_count": 93,
   "metadata": {},
   "outputs": [
    {
     "data": {
      "text/plain": [
       "array([[666,  10,  10,  10,   8,   8,   6,   6,   6,   6],\n",
       "       [  6,   6,   6,   6,   6,   6,   6,   6,   6,   6]])"
      ]
     },
     "execution_count": 93,
     "metadata": {},
     "output_type": "execute_result"
    }
   ],
   "source": [
    "np.where(e > 5, 6, np.where(e > 3, 8, np.where(e > 0, 10, 666)))"
   ]
  },
  {
   "cell_type": "markdown",
   "metadata": {},
   "source": [
    "## 排序，集合计算\n",
    "排序一般用到sort()  \n",
    "多维数组排序，加入轴号即可  \n",
    "集合计算常用： unique, intersect1d, union1d等等"
   ]
  },
  {
   "cell_type": "code",
   "execution_count": 109,
   "metadata": {},
   "outputs": [
    {
     "data": {
      "text/plain": [
       "array([ 0.92879435,  0.23517274,  0.560154  , -0.55331837, -1.70368585,\n",
       "        0.6493964 , -1.37855567,  0.50438693, -0.34634076, -0.80172691])"
      ]
     },
     "execution_count": 109,
     "metadata": {},
     "output_type": "execute_result"
    }
   ],
   "source": [
    "y = np.random.randn(10)\n",
    "y"
   ]
  },
  {
   "cell_type": "code",
   "execution_count": 107,
   "metadata": {},
   "outputs": [
    {
     "data": {
      "text/plain": [
       "array([-1.60990801, -1.37147495,  0.06527773,  0.10375607,  0.1285965 ,\n",
       "        0.17947983,  0.22818647,  0.58991732,  0.80670465,  0.9456178 ])"
      ]
     },
     "execution_count": 107,
     "metadata": {},
     "output_type": "execute_result"
    }
   ],
   "source": [
    "# 原地修改数组\n",
    "x.sort()\n",
    "x"
   ]
  },
  {
   "cell_type": "code",
   "execution_count": 110,
   "metadata": {},
   "outputs": [
    {
     "name": "stdout",
     "output_type": "stream",
     "text": [
      "[-1.70368585 -1.37855567 -0.80172691 -0.55331837 -0.34634076  0.23517274\n",
      "  0.50438693  0.560154    0.6493964   0.92879435]\n"
     ]
    },
    {
     "data": {
      "text/plain": [
       "array([ 0.92879435,  0.23517274,  0.560154  , -0.55331837, -1.70368585,\n",
       "        0.6493964 , -1.37855567,  0.50438693, -0.34634076, -0.80172691])"
      ]
     },
     "execution_count": 110,
     "metadata": {},
     "output_type": "execute_result"
    }
   ],
   "source": [
    "# 创建副本排序\n",
    "print(np.sort(y))\n",
    "y"
   ]
  },
  {
   "cell_type": "markdown",
   "metadata": {},
   "source": [
    "## 数组文件输入输出\n",
    "数组保存 np.save(filename, array), 数组读取 np.load(array)  \n",
    "读取文本 np.loadtxt(filename, delimiter=' '), 文本保存 np.savetxt  \n",
    "保存多个数组 np.savez(filename.npz, a=array1, b=array2), 读取 np.load(filename.npz) 调用时加入参数"
   ]
  },
  {
   "cell_type": "code",
   "execution_count": 112,
   "metadata": {},
   "outputs": [],
   "source": [
    "np.save('666', x)"
   ]
  },
  {
   "cell_type": "code",
   "execution_count": 113,
   "metadata": {},
   "outputs": [
    {
     "data": {
      "text/plain": [
       "array([-1.60990801, -1.37147495,  0.06527773,  0.10375607,  0.1285965 ,\n",
       "        0.17947983,  0.22818647,  0.58991732,  0.80670465,  0.9456178 ])"
      ]
     },
     "execution_count": 113,
     "metadata": {},
     "output_type": "execute_result"
    }
   ],
   "source": [
    "x"
   ]
  },
  {
   "cell_type": "code",
   "execution_count": 114,
   "metadata": {},
   "outputs": [
    {
     "data": {
      "text/plain": [
       "array([ 0.92879435,  0.23517274,  0.560154  , -0.55331837, -1.70368585,\n",
       "        0.6493964 , -1.37855567,  0.50438693, -0.34634076, -0.80172691])"
      ]
     },
     "execution_count": 114,
     "metadata": {},
     "output_type": "execute_result"
    }
   ],
   "source": [
    "y"
   ]
  },
  {
   "cell_type": "code",
   "execution_count": 115,
   "metadata": {
    "collapsed": true
   },
   "outputs": [],
   "source": [
    "np.savez('123.npz', a=x, b=y)"
   ]
  },
  {
   "cell_type": "code",
   "execution_count": 119,
   "metadata": {},
   "outputs": [
    {
     "data": {
      "text/plain": [
       "array([ 0.92879435,  0.23517274,  0.560154  , -0.55331837, -1.70368585,\n",
       "        0.6493964 , -1.37855567,  0.50438693, -0.34634076, -0.80172691])"
      ]
     },
     "execution_count": 119,
     "metadata": {},
     "output_type": "execute_result"
    }
   ],
   "source": [
    "m = np.load('123.npz')\n",
    "m['b']"
   ]
  },
  {
   "cell_type": "markdown",
   "metadata": {},
   "source": [
    "## 线性代数计算\n",
    "numpy.linalg用于线性代数计算，如矩阵的逆inv， trace对角线元素和， dot矩阵乘法  "
   ]
  },
  {
   "cell_type": "code",
   "execution_count": 120,
   "metadata": {
    "collapsed": true
   },
   "outputs": [],
   "source": [
    "from numpy.linalg import inv, qr"
   ]
  },
  {
   "cell_type": "code",
   "execution_count": 122,
   "metadata": {},
   "outputs": [
    {
     "data": {
      "text/plain": [
       "array([[-1.86726622, -0.45487866, -0.59261704,  0.20257722, -0.60797967],\n",
       "       [-0.6317677 ,  0.42804284,  0.4899873 ,  0.80405747,  0.48441675],\n",
       "       [-0.46662343, -1.7263396 , -0.29946582, -1.37191524, -0.45878488],\n",
       "       [ 1.76961191, -0.61739434,  0.3326875 ,  0.83550296,  1.09464776],\n",
       "       [ 1.7364809 , -0.10263833, -0.18980842, -1.50428487, -1.47998725]])"
      ]
     },
     "execution_count": 122,
     "metadata": {},
     "output_type": "execute_result"
    }
   ],
   "source": [
    "X = np.random.randn(5, 5)\n",
    "X"
   ]
  },
  {
   "cell_type": "code",
   "execution_count": 123,
   "metadata": {},
   "outputs": [
    {
     "data": {
      "text/plain": [
       "array([[-0.00334188, -0.21365295, -0.15857308,  0.2680044 ,  0.17882321],\n",
       "       [-0.41952499, -0.50740429, -0.40252597, -0.49748552, -0.23691491],\n",
       "       [-0.23348383,  2.36717472,  0.58918766,  0.0457201 ,  0.72189103],\n",
       "       [ 0.85074728,  0.55753935, -0.33163908,  0.62133079,  0.39536402],\n",
       "       [-0.80959672, -1.08577479,  0.10338085, -0.28844233, -0.94387399]])"
      ]
     },
     "execution_count": 123,
     "metadata": {},
     "output_type": "execute_result"
    }
   ],
   "source": [
    "inv(X)"
   ]
  },
  {
   "cell_type": "code",
   "execution_count": 124,
   "metadata": {},
   "outputs": [
    {
     "data": {
      "text/plain": [
       "array([[ 3.20163134,  0.03552206,  0.37352285, -0.43094321,  0.12819494],\n",
       "       [ 0.        , -1.93928653, -0.41102644, -1.17274319, -0.38542367],\n",
       "       [ 0.        ,  0.        , -0.7205612 , -1.28676781, -1.62905547],\n",
       "       [ 0.        ,  0.        ,  0.        , -1.52112639, -1.01482661],\n",
       "       [ 0.        ,  0.        ,  0.        ,  0.        , -0.59558232]])"
      ]
     },
     "execution_count": 124,
     "metadata": {},
     "output_type": "execute_result"
    }
   ],
   "source": [
    "q, r = qr(X)\n",
    "r"
   ]
  }
 ],
 "metadata": {
  "kernelspec": {
   "display_name": "Python 3",
   "language": "python",
   "name": "python3"
  },
  "language_info": {
   "codemirror_mode": {
    "name": "ipython",
    "version": 3
   },
   "file_extension": ".py",
   "mimetype": "text/x-python",
   "name": "python",
   "nbconvert_exporter": "python",
   "pygments_lexer": "ipython3",
   "version": "3.5.4"
  }
 },
 "nbformat": 4,
 "nbformat_minor": 2
}
